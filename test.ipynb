{
 "cells": [
  {
   "cell_type": "code",
   "execution_count": 2,
   "metadata": {},
   "outputs": [
    {
     "ename": "KeyboardInterrupt",
     "evalue": "",
     "output_type": "error",
     "traceback": [
      "\u001b[1;31m---------------------------------------------------------------------------\u001b[0m",
      "\u001b[1;31mKeyboardInterrupt\u001b[0m                         Traceback (most recent call last)",
      "Cell \u001b[1;32mIn[2], line 3\u001b[0m\n\u001b[0;32m      1\u001b[0m \u001b[39mimport\u001b[39;00m \u001b[39mcv2\u001b[39;00m \u001b[39mas\u001b[39;00m \u001b[39mcv\u001b[39;00m\n\u001b[0;32m      2\u001b[0m \u001b[39mimport\u001b[39;00m \u001b[39mtkinter\u001b[39;00m \u001b[39mas\u001b[39;00m \u001b[39mtk\u001b[39;00m\n\u001b[1;32m----> 3\u001b[0m cap \u001b[39m=\u001b[39m cv\u001b[39m.\u001b[39;49mVideoCapture(\u001b[39m\"\u001b[39;49m\u001b[39mrtsp://192.168.31.85:8554/mystream\u001b[39;49m\u001b[39m\"\u001b[39;49m)\n\u001b[0;32m      4\u001b[0m root \u001b[39m=\u001b[39m tk\u001b[39m.\u001b[39mTk()\n\u001b[0;32m      5\u001b[0m root\u001b[39m.\u001b[39mtitle(\u001b[39m\"\u001b[39m\u001b[39mMo cua so\u001b[39m\u001b[39m\"\u001b[39m)\n",
      "\u001b[1;31mKeyboardInterrupt\u001b[0m: "
     ]
    }
   ],
   "source": [
    "# import cv2 as cv\n",
    "# import tkinter as tk\n",
    "# cap = cv.VideoCapture(\"rtsp://192.168.31.86:8554/mystream\")\n",
    "# root = tk.Tk()\n",
    "# root.title(\"Mo cua so\")\n",
    "# canvas = tk.Canvas(root, width=640, height=480)\n",
    "# canvas.pack()\n",
    "\n",
    "# root.mainloop()"
   ]
  },
  {
   "cell_type": "code",
   "execution_count": 24,
   "metadata": {},
   "outputs": [
    {
     "name": "stdout",
     "output_type": "stream",
     "text": [
      "Network Active\n"
     ]
    }
   ],
   "source": [
    "import os\n",
    "def check_ping():\n",
    "    hostname = \"192.168.31.86\"\n",
    "    response = os.system(\"ping -n 1 \" + hostname)\n",
    "    # and then check the response...\n",
    "    if response == 0:\n",
    "        pingstatus = \"Network Active\"\n",
    "    else:\n",
    "        pingstatus = \"Network Error\"\n",
    "    print(pingstatus)\n",
    "check_ping()"
   ]
  },
  {
   "cell_type": "code",
   "execution_count": 9,
   "metadata": {},
   "outputs": [],
   "source": [
    "import tkinter\n",
    "from tkinter import *\n",
    "from PIL import Image, ImageTk\n",
    "\n",
    "root = Tk()\n",
    "\n",
    "# Create a photoimage object of the image in the path\n",
    "image1 = Image.open(\"colorbar.png\")\n",
    "test = ImageTk.PhotoImage(image1)\n",
    "\n",
    "label1 = tkinter.Label(image=test)\n",
    "label1.image = test\n",
    "\n",
    "# Position image\n",
    "label1.place(x=0, y=0)\n",
    "root.mainloop()\n"
   ]
  },
  {
   "cell_type": "code",
   "execution_count": 1,
   "metadata": {},
   "outputs": [
    {
     "name": "stdout",
     "output_type": "stream",
     "text": [
      "Connected to video source rtsp://192.168.31.86:8554/mystream.\n",
      "Disconnected from rtsp://192.168.31.86:8554/mystream\n"
     ]
    }
   ],
   "source": [
    "import rtsp\n",
    "client = rtsp.Client(rtsp_server_uri = 'rtsp://192.168.31.86:8554/mystream', verbose=True)\n",
    "client.close()"
   ]
  }
 ],
 "metadata": {
  "kernelspec": {
   "display_name": "Python 3",
   "language": "python",
   "name": "python3"
  },
  "language_info": {
   "codemirror_mode": {
    "name": "ipython",
    "version": 3
   },
   "file_extension": ".py",
   "mimetype": "text/x-python",
   "name": "python",
   "nbconvert_exporter": "python",
   "pygments_lexer": "ipython3",
   "version": "3.11.2"
  },
  "orig_nbformat": 4
 },
 "nbformat": 4,
 "nbformat_minor": 2
}
